{
 "cells": [
  {
   "cell_type": "markdown",
   "metadata": {},
   "source": [
    "Emulate Ranganathan's paper, [Setting development goals using stochastic dynamical system models](https://journals.plos.org/plosone/article?id=10.1371/journal.pone.0171560). Figure 5c.\n",
    "\n",
    "Equations from [this section](https://journals.plos.org/plosone/article?id=10.1371/journal.pone.0171560#sec005)."
   ]
  },
  {
   "cell_type": "markdown",
   "metadata": {},
   "source": [
    "### Import Modules"
   ]
  },
  {
   "cell_type": "code",
   "execution_count": 1,
   "metadata": {},
   "outputs": [],
   "source": [
    "import numpy as np\n",
    "from scipy.integrate import odeint\n",
    "import matplotlib.pyplot as plt\n",
    "\n",
    "import pandas as pd"
   ]
  },
  {
   "cell_type": "code",
   "execution_count": 2,
   "metadata": {},
   "outputs": [
    {
     "data": {
      "image/png": "[encoded data removed]",
      "text/plain": [
       "<Figure size 432x288 with 1 Axes>"
      ]
     },
     "metadata": {
      "needs_background": "light"
     },
     "output_type": "display_data"
    }
   ],
   "source": [
    "# function that returns [dC,dG]\n",
    "def model(p,t):\n",
    "    # implement the equations from the paper\n",
    "    dcdt = 0.439*p[0] - 0.0354*p[0]*p[1] - 1.47*p[0]/p[1]# + noise2\n",
    "    dgdt = -16.8/p[0] + 95.7/(p[1]*p[0]) + 0.732*p[1]/p[0]# + noise1\n",
    "    return [dcdt,dgdt]\n",
    "\n",
    "# initial condition - India in 2000: child mortality and GDP per capita, PPP current $\n",
    "p0 = [91.6,np.log(2156.69)]\n",
    "\n",
    "# time points\n",
    "t = np.linspace(0,18)\n",
    "\n",
    "# solve ODE\n",
    "p = odeint(model,p0,t)\n",
    "\n",
    "# plot results\n",
    "plt.plot(t,p[:,0],'b-',label=r'$\\Delta$ChildMortality')\n",
    "plt.plot(t,p[:,1],'r--',label=r'$\\Delta$logGDPpc')\n",
    "plt.ylabel('response (x,y values)')\n",
    "plt.xlabel('time')\n",
    "plt.legend(loc='best')\n",
    "plt.show()"
   ]
  },
  {
   "cell_type": "markdown",
   "metadata": {},
   "source": [
    "## Compare child mortality against true data"
   ]
  },
  {
   "cell_type": "code",
   "execution_count": 3,
   "metadata": {},
   "outputs": [],
   "source": [
    "wb_child_mortality = pd.read_csv('data/new/wb_child_mortality.csv', encoding=\"ISO-8859-1\",index_col='Country Name')\n",
    "wb_child_mortality = wb_child_mortality.iloc[:,3:].transpose()\n",
    "wb_child_mortality.index = wb_child_mortality.index.astype(int)"
   ]
  },
  {
   "cell_type": "code",
   "execution_count": 4,
   "metadata": {},
   "outputs": [
    {
     "data": {
      "text/html": [
       "<div>\n",
       "<style scoped>\n",
       "    .dataframe tbody tr th:only-of-type {\n",
       "        vertical-align: middle;\n",
       "    }\n",
       "\n",
       "    .dataframe tbody tr th {\n",
       "        vertical-align: top;\n",
       "    }\n",
       "\n",
       "    .dataframe thead th {\n",
       "        text-align: right;\n",
       "    }\n",
       "</style>\n",
       "<table border=\"1\" class=\"dataframe\">\n",
       "  <thead>\n",
       "    <tr style=\"text-align: right;\">\n",
       "      <th>Country Name</th>\n",
       "      <th>Aruba</th>\n",
       "      <th>Afghanistan</th>\n",
       "      <th>Angola</th>\n",
       "      <th>Albania</th>\n",
       "      <th>Andorra</th>\n",
       "      <th>Arab World</th>\n",
       "      <th>United Arab Emirates</th>\n",
       "      <th>Argentina</th>\n",
       "      <th>Armenia</th>\n",
       "      <th>American Samoa</th>\n",
       "      <th>...</th>\n",
       "      <th>Virgin Islands (U.S.)</th>\n",
       "      <th>Vietnam</th>\n",
       "      <th>Vanuatu</th>\n",
       "      <th>World</th>\n",
       "      <th>Samoa</th>\n",
       "      <th>Kosovo</th>\n",
       "      <th>Yemen, Rep.</th>\n",
       "      <th>South Africa</th>\n",
       "      <th>Zambia</th>\n",
       "      <th>Zimbabwe</th>\n",
       "    </tr>\n",
       "  </thead>\n",
       "  <tbody>\n",
       "    <tr>\n",
       "      <th>1960</th>\n",
       "      <td>NaN</td>\n",
       "      <td>NaN</td>\n",
       "      <td>NaN</td>\n",
       "      <td>NaN</td>\n",
       "      <td>NaN</td>\n",
       "      <td>NaN</td>\n",
       "      <td>199.5</td>\n",
       "      <td>NaN</td>\n",
       "      <td>NaN</td>\n",
       "      <td>NaN</td>\n",
       "      <td>...</td>\n",
       "      <td>NaN</td>\n",
       "      <td>NaN</td>\n",
       "      <td>153.7</td>\n",
       "      <td>NaN</td>\n",
       "      <td>NaN</td>\n",
       "      <td>NaN</td>\n",
       "      <td>NaN</td>\n",
       "      <td>NaN</td>\n",
       "      <td>205.6</td>\n",
       "      <td>151.0</td>\n",
       "    </tr>\n",
       "    <tr>\n",
       "      <th>1961</th>\n",
       "      <td>NaN</td>\n",
       "      <td>350.9</td>\n",
       "      <td>NaN</td>\n",
       "      <td>NaN</td>\n",
       "      <td>NaN</td>\n",
       "      <td>NaN</td>\n",
       "      <td>189.4</td>\n",
       "      <td>NaN</td>\n",
       "      <td>NaN</td>\n",
       "      <td>NaN</td>\n",
       "      <td>...</td>\n",
       "      <td>NaN</td>\n",
       "      <td>NaN</td>\n",
       "      <td>149.7</td>\n",
       "      <td>NaN</td>\n",
       "      <td>NaN</td>\n",
       "      <td>NaN</td>\n",
       "      <td>NaN</td>\n",
       "      <td>NaN</td>\n",
       "      <td>201.6</td>\n",
       "      <td>146.9</td>\n",
       "    </tr>\n",
       "    <tr>\n",
       "      <th>1962</th>\n",
       "      <td>NaN</td>\n",
       "      <td>345.3</td>\n",
       "      <td>NaN</td>\n",
       "      <td>NaN</td>\n",
       "      <td>NaN</td>\n",
       "      <td>NaN</td>\n",
       "      <td>179.7</td>\n",
       "      <td>NaN</td>\n",
       "      <td>NaN</td>\n",
       "      <td>NaN</td>\n",
       "      <td>...</td>\n",
       "      <td>NaN</td>\n",
       "      <td>NaN</td>\n",
       "      <td>145.5</td>\n",
       "      <td>NaN</td>\n",
       "      <td>NaN</td>\n",
       "      <td>NaN</td>\n",
       "      <td>409.4</td>\n",
       "      <td>NaN</td>\n",
       "      <td>197.9</td>\n",
       "      <td>142.5</td>\n",
       "    </tr>\n",
       "    <tr>\n",
       "      <th>1963</th>\n",
       "      <td>NaN</td>\n",
       "      <td>340.1</td>\n",
       "      <td>NaN</td>\n",
       "      <td>NaN</td>\n",
       "      <td>NaN</td>\n",
       "      <td>NaN</td>\n",
       "      <td>169.8</td>\n",
       "      <td>NaN</td>\n",
       "      <td>NaN</td>\n",
       "      <td>NaN</td>\n",
       "      <td>...</td>\n",
       "      <td>NaN</td>\n",
       "      <td>NaN</td>\n",
       "      <td>141.1</td>\n",
       "      <td>NaN</td>\n",
       "      <td>NaN</td>\n",
       "      <td>NaN</td>\n",
       "      <td>402.0</td>\n",
       "      <td>NaN</td>\n",
       "      <td>194.7</td>\n",
       "      <td>137.9</td>\n",
       "    </tr>\n",
       "    <tr>\n",
       "      <th>1964</th>\n",
       "      <td>NaN</td>\n",
       "      <td>334.9</td>\n",
       "      <td>NaN</td>\n",
       "      <td>NaN</td>\n",
       "      <td>NaN</td>\n",
       "      <td>NaN</td>\n",
       "      <td>159.5</td>\n",
       "      <td>NaN</td>\n",
       "      <td>NaN</td>\n",
       "      <td>NaN</td>\n",
       "      <td>...</td>\n",
       "      <td>NaN</td>\n",
       "      <td>85.5</td>\n",
       "      <td>136.6</td>\n",
       "      <td>NaN</td>\n",
       "      <td>NaN</td>\n",
       "      <td>NaN</td>\n",
       "      <td>393.9</td>\n",
       "      <td>NaN</td>\n",
       "      <td>192.1</td>\n",
       "      <td>133.5</td>\n",
       "    </tr>\n",
       "  </tbody>\n",
       "</table>\n",
       "<p>5 rows × 264 columns</p>\n",
       "</div>"
      ],
      "text/plain": [
       "Country Name  Aruba  Afghanistan  Angola  Albania  Andorra  Arab World  \\\n",
       "1960            NaN          NaN     NaN      NaN      NaN         NaN   \n",
       "1961            NaN        350.9     NaN      NaN      NaN         NaN   \n",
       "1962            NaN        345.3     NaN      NaN      NaN         NaN   \n",
       "1963            NaN        340.1     NaN      NaN      NaN         NaN   \n",
       "1964            NaN        334.9     NaN      NaN      NaN         NaN   \n",
       "\n",
       "Country Name  United Arab Emirates  Argentina  Armenia  American Samoa  \\\n",
       "1960                         199.5        NaN      NaN             NaN   \n",
       "1961                         189.4        NaN      NaN             NaN   \n",
       "1962                         179.7        NaN      NaN             NaN   \n",
       "1963                         169.8        NaN      NaN             NaN   \n",
       "1964                         159.5        NaN      NaN             NaN   \n",
       "\n",
       "Country Name    ...     Virgin Islands (U.S.)  Vietnam  Vanuatu  World  Samoa  \\\n",
       "1960            ...                       NaN      NaN    153.7    NaN    NaN   \n",
       "1961            ...                       NaN      NaN    149.7    NaN    NaN   \n",
       "1962            ...                       NaN      NaN    145.5    NaN    NaN   \n",
       "1963            ...                       NaN      NaN    141.1    NaN    NaN   \n",
       "1964            ...                       NaN     85.5    136.6    NaN    NaN   \n",
       "\n",
       "Country Name  Kosovo  Yemen, Rep.  South Africa  Zambia  Zimbabwe  \n",
       "1960             NaN          NaN           NaN   205.6     151.0  \n",
       "1961             NaN          NaN           NaN   201.6     146.9  \n",
       "1962             NaN        409.4           NaN   197.9     142.5  \n",
       "1963             NaN        402.0           NaN   194.7     137.9  \n",
       "1964             NaN        393.9           NaN   192.1     133.5  \n",
       "\n",
       "[5 rows x 264 columns]"
      ]
     },
     "execution_count": 4,
     "metadata": {},
     "output_type": "execute_result"
    }
   ],
   "source": [
    "wb_child_mortality.head()"
   ]
  },
  {
   "cell_type": "code",
   "execution_count": 5,
   "metadata": {},
   "outputs": [
    {
     "data": {
      "image/png": "[encoded data removed]",
      "text/plain": [
       "<Figure size 432x288 with 1 Axes>"
      ]
     },
     "metadata": {
      "needs_background": "light"
     },
     "output_type": "display_data"
    }
   ],
   "source": [
    "# real data\n",
    "india_1990_onwards = wb_child_mortality.loc[2000:,'India']\n",
    "plt.scatter(list(india_1990_onwards.index),list(india_1990_onwards),color='r',label=r'Real Data')\n",
    "# 2015 target (1/3 of 1990 value)\n",
    "plt.hlines(india_1990_onwards[2000]/3,2000,2018,color='k',linestyles='dashed',label='MDG 2015 Target')\n",
    "# predictions\n",
    "plt.plot(np.array(t)+2000,p[:,0],'k',label=r'Model Prediction')\n",
    "\n",
    "plt.ylabel('Child Mortality')\n",
    "plt.xlabel('Year')\n",
    "plt.title('India')\n",
    "plt.ylim(0,250)\n",
    "plt.legend()\n",
    "plt.savefig('outputs/figs_modelling/ODE_india.png',dpi=200)\n",
    "plt.show()"
   ]
  },
  {
   "cell_type": "markdown",
   "metadata": {},
   "source": [
    "We can see that this is very close to the India figure from the paper (no stochastic changes in our implementation).\n",
    "\n",
    "\n",
    "<img src=\"https://journals.plos.org/plosone/article/figure/image?size=large&id=10.1371/journal.pone.0171560.g005\" width=\"800\" height=\"400\">"
   ]
  }
 ],
 "metadata": {
  "kernelspec": {
   "display_name": "Python 3",
   "language": "python",
   "name": "python3"
  },
  "language_info": {
   "codemirror_mode": {
    "name": "ipython",
    "version": 3
   },
   "file_extension": ".py",
   "mimetype": "text/x-python",
   "name": "python",
   "nbconvert_exporter": "python",
   "pygments_lexer": "ipython3",
   "version": "3.7.0"
  }
 },
 "nbformat": 4,
 "nbformat_minor": 2
}
